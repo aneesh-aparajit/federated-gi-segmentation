{
 "cells": [
  {
   "cell_type": "markdown",
   "id": "557e7834",
   "metadata": {},
   "source": [
    "# Preparing Data"
   ]
  },
  {
   "cell_type": "code",
   "execution_count": 1,
   "id": "482b1c28",
   "metadata": {
    "scrolled": true
   },
   "outputs": [
    {
     "name": "stdout",
     "output_type": "stream",
     "text": [
      "Author: aneesh-aparajit\n",
      "\n",
      "tensorflow: 2.10.0\n",
      "numpy     : 1.23.2\n",
      "pandas    : 1.5.2\n",
      "matplotlib: 3.6.2\n",
      "cv2       : 4.6.0\n",
      "\n"
     ]
    }
   ],
   "source": [
    "import os\n",
    "os.environ['TF_CPP_MIN_LOG_LEVEL'] = '2'\n",
    "\n",
    "import numpy as np\n",
    "import matplotlib.pyplot as plt\n",
    "import plotly.express as px\n",
    "import pandas as pd\n",
    "import os\n",
    "import glob\n",
    "from tqdm import tqdm\n",
    "import cv2 as cv\n",
    "\n",
    "import tensorflow as tf\n",
    "\n",
    "%load_ext watermark\n",
    "%watermark -a \"aneesh-aparajit\" -p tensorflow,numpy,pandas,matplotlib,cv2"
   ]
  },
  {
   "cell_type": "code",
   "execution_count": 2,
   "id": "d66eed0f",
   "metadata": {},
   "outputs": [],
   "source": [
    "class DataCFG:\n",
    "    BASE_DIR = '../uw-madison-gi-tract-image-segmentation/train/'\n",
    "\n",
    "cfg = DataCFG()"
   ]
  },
  {
   "cell_type": "code",
   "execution_count": 3,
   "id": "24abf24a",
   "metadata": {},
   "outputs": [
    {
     "data": {
      "text/html": [
       "<div>\n",
       "<style scoped>\n",
       "    .dataframe tbody tr th:only-of-type {\n",
       "        vertical-align: middle;\n",
       "    }\n",
       "\n",
       "    .dataframe tbody tr th {\n",
       "        vertical-align: top;\n",
       "    }\n",
       "\n",
       "    .dataframe thead th {\n",
       "        text-align: right;\n",
       "    }\n",
       "</style>\n",
       "<table border=\"1\" class=\"dataframe\">\n",
       "  <thead>\n",
       "    <tr style=\"text-align: right;\">\n",
       "      <th></th>\n",
       "      <th>id</th>\n",
       "      <th>class</th>\n",
       "      <th>segmentation</th>\n",
       "    </tr>\n",
       "  </thead>\n",
       "  <tbody>\n",
       "    <tr>\n",
       "      <th>0</th>\n",
       "      <td>case123_day20_slice_0001</td>\n",
       "      <td>large_bowel</td>\n",
       "      <td>NaN</td>\n",
       "    </tr>\n",
       "    <tr>\n",
       "      <th>1</th>\n",
       "      <td>case123_day20_slice_0001</td>\n",
       "      <td>small_bowel</td>\n",
       "      <td>NaN</td>\n",
       "    </tr>\n",
       "    <tr>\n",
       "      <th>2</th>\n",
       "      <td>case123_day20_slice_0001</td>\n",
       "      <td>stomach</td>\n",
       "      <td>NaN</td>\n",
       "    </tr>\n",
       "    <tr>\n",
       "      <th>3</th>\n",
       "      <td>case123_day20_slice_0002</td>\n",
       "      <td>large_bowel</td>\n",
       "      <td>NaN</td>\n",
       "    </tr>\n",
       "    <tr>\n",
       "      <th>4</th>\n",
       "      <td>case123_day20_slice_0002</td>\n",
       "      <td>small_bowel</td>\n",
       "      <td>NaN</td>\n",
       "    </tr>\n",
       "  </tbody>\n",
       "</table>\n",
       "</div>"
      ],
      "text/plain": [
       "                         id        class segmentation\n",
       "0  case123_day20_slice_0001  large_bowel          NaN\n",
       "1  case123_day20_slice_0001  small_bowel          NaN\n",
       "2  case123_day20_slice_0001      stomach          NaN\n",
       "3  case123_day20_slice_0002  large_bowel          NaN\n",
       "4  case123_day20_slice_0002  small_bowel          NaN"
      ]
     },
     "execution_count": 3,
     "metadata": {},
     "output_type": "execute_result"
    }
   ],
   "source": [
    "df = pd.read_csv('../uw-madison-gi-tract-image-segmentation/train.csv')\n",
    "df.head()"
   ]
  },
  {
   "cell_type": "code",
   "execution_count": 4,
   "id": "86e5306f",
   "metadata": {},
   "outputs": [
    {
     "data": {
      "text/plain": [
       "id                  0\n",
       "class               0\n",
       "segmentation    81575\n",
       "dtype: int64"
      ]
     },
     "execution_count": 4,
     "metadata": {},
     "output_type": "execute_result"
    }
   ],
   "source": [
    "df.isna().sum()"
   ]
  },
  {
   "cell_type": "code",
   "execution_count": 5,
   "id": "90a81b05",
   "metadata": {},
   "outputs": [
    {
     "name": "stdout",
     "output_type": "stream",
     "text": [
      "<class 'pandas.core.frame.DataFrame'>\n",
      "RangeIndex: 115488 entries, 0 to 115487\n",
      "Data columns (total 3 columns):\n",
      " #   Column        Non-Null Count   Dtype \n",
      "---  ------        --------------   ----- \n",
      " 0   id            115488 non-null  object\n",
      " 1   class         115488 non-null  object\n",
      " 2   segmentation  33913 non-null   object\n",
      "dtypes: object(3)\n",
      "memory usage: 2.6+ MB\n"
     ]
    }
   ],
   "source": [
    "df.info()"
   ]
  },
  {
   "cell_type": "code",
   "execution_count": 6,
   "id": "1d01b044",
   "metadata": {},
   "outputs": [],
   "source": [
    "if os.path.exists('../processed-v1/'):\n",
    "    pass\n",
    "else:\n",
    "    os.mkdir('../processed-v1/')"
   ]
  },
  {
   "cell_type": "code",
   "execution_count": 7,
   "id": "d3f0740e",
   "metadata": {},
   "outputs": [
    {
     "data": {
      "text/plain": [
       "194       [28094, 3, 28358, 7, 28623, 9, 28889, 9, 29155...\n",
       "197       [27561, 8, 27825, 11, 28090, 13, 28355, 14, 28...\n",
       "200       [15323, 4, 15587, 8, 15852, 10, 16117, 11, 163...\n",
       "203       [14792, 5, 15056, 9, 15321, 11, 15587, 11, 158...\n",
       "206       [14526, 6, 14789, 12, 15054, 14, 15319, 16, 15...\n",
       "                                ...                        \n",
       "115459    [22540, 1, 22804, 5, 23069, 7, 23334, 10, 2360...\n",
       "115461    [18746, 7, 19009, 23, 19038, 7, 19273, 44, 195...\n",
       "115462    [23079, 1, 23343, 6, 23608, 9, 23874, 11, 2413...\n",
       "115464    [18746, 2, 19010, 8, 19040, 3, 19274, 25, 1930...\n",
       "115465    [21457, 6, 21722, 10, 21987, 15, 22252, 18, 22...\n",
       "Name: segmentation, Length: 33913, dtype: object"
      ]
     },
     "execution_count": 7,
     "metadata": {},
     "output_type": "execute_result"
    }
   ],
   "source": [
    "df[~df['segmentation'].isna()]['segmentation'].apply(lambda x: (x.split()))"
   ]
  },
  {
   "cell_type": "code",
   "execution_count": 8,
   "id": "151cf8d8",
   "metadata": {},
   "outputs": [
    {
     "data": {
      "text/html": [
       "<div>\n",
       "<style scoped>\n",
       "    .dataframe tbody tr th:only-of-type {\n",
       "        vertical-align: middle;\n",
       "    }\n",
       "\n",
       "    .dataframe tbody tr th {\n",
       "        vertical-align: top;\n",
       "    }\n",
       "\n",
       "    .dataframe thead th {\n",
       "        text-align: right;\n",
       "    }\n",
       "</style>\n",
       "<table border=\"1\" class=\"dataframe\">\n",
       "  <thead>\n",
       "    <tr style=\"text-align: right;\">\n",
       "      <th></th>\n",
       "      <th>id</th>\n",
       "      <th>class</th>\n",
       "      <th>segmentation</th>\n",
       "    </tr>\n",
       "  </thead>\n",
       "  <tbody>\n",
       "    <tr>\n",
       "      <th>0</th>\n",
       "      <td>case123_day20_slice_0001</td>\n",
       "      <td>large_bowel</td>\n",
       "      <td>NaN</td>\n",
       "    </tr>\n",
       "    <tr>\n",
       "      <th>1</th>\n",
       "      <td>case123_day20_slice_0001</td>\n",
       "      <td>small_bowel</td>\n",
       "      <td>NaN</td>\n",
       "    </tr>\n",
       "    <tr>\n",
       "      <th>2</th>\n",
       "      <td>case123_day20_slice_0001</td>\n",
       "      <td>stomach</td>\n",
       "      <td>NaN</td>\n",
       "    </tr>\n",
       "    <tr>\n",
       "      <th>3</th>\n",
       "      <td>case123_day20_slice_0002</td>\n",
       "      <td>large_bowel</td>\n",
       "      <td>NaN</td>\n",
       "    </tr>\n",
       "    <tr>\n",
       "      <th>4</th>\n",
       "      <td>case123_day20_slice_0002</td>\n",
       "      <td>small_bowel</td>\n",
       "      <td>NaN</td>\n",
       "    </tr>\n",
       "    <tr>\n",
       "      <th>...</th>\n",
       "      <td>...</td>\n",
       "      <td>...</td>\n",
       "      <td>...</td>\n",
       "    </tr>\n",
       "    <tr>\n",
       "      <th>115483</th>\n",
       "      <td>case30_day0_slice_0143</td>\n",
       "      <td>small_bowel</td>\n",
       "      <td>NaN</td>\n",
       "    </tr>\n",
       "    <tr>\n",
       "      <th>115484</th>\n",
       "      <td>case30_day0_slice_0143</td>\n",
       "      <td>stomach</td>\n",
       "      <td>NaN</td>\n",
       "    </tr>\n",
       "    <tr>\n",
       "      <th>115485</th>\n",
       "      <td>case30_day0_slice_0144</td>\n",
       "      <td>large_bowel</td>\n",
       "      <td>NaN</td>\n",
       "    </tr>\n",
       "    <tr>\n",
       "      <th>115486</th>\n",
       "      <td>case30_day0_slice_0144</td>\n",
       "      <td>small_bowel</td>\n",
       "      <td>NaN</td>\n",
       "    </tr>\n",
       "    <tr>\n",
       "      <th>115487</th>\n",
       "      <td>case30_day0_slice_0144</td>\n",
       "      <td>stomach</td>\n",
       "      <td>NaN</td>\n",
       "    </tr>\n",
       "  </tbody>\n",
       "</table>\n",
       "<p>115488 rows × 3 columns</p>\n",
       "</div>"
      ],
      "text/plain": [
       "                              id        class segmentation\n",
       "0       case123_day20_slice_0001  large_bowel          NaN\n",
       "1       case123_day20_slice_0001  small_bowel          NaN\n",
       "2       case123_day20_slice_0001      stomach          NaN\n",
       "3       case123_day20_slice_0002  large_bowel          NaN\n",
       "4       case123_day20_slice_0002  small_bowel          NaN\n",
       "...                          ...          ...          ...\n",
       "115483    case30_day0_slice_0143  small_bowel          NaN\n",
       "115484    case30_day0_slice_0143      stomach          NaN\n",
       "115485    case30_day0_slice_0144  large_bowel          NaN\n",
       "115486    case30_day0_slice_0144  small_bowel          NaN\n",
       "115487    case30_day0_slice_0144      stomach          NaN\n",
       "\n",
       "[115488 rows x 3 columns]"
      ]
     },
     "execution_count": 8,
     "metadata": {},
     "output_type": "execute_result"
    }
   ],
   "source": [
    "df"
   ]
  },
  {
   "cell_type": "code",
   "execution_count": 9,
   "id": "f42caf80",
   "metadata": {},
   "outputs": [],
   "source": [
    "PATHS = []\n",
    "HEIGHT = []\n",
    "WIDTH = []\n",
    "ID = []\n",
    "TOTAL = 0\n",
    "DAYS = 0"
   ]
  },
  {
   "cell_type": "code",
   "execution_count": 10,
   "id": "4d76cf24",
   "metadata": {},
   "outputs": [
    {
     "name": "stderr",
     "output_type": "stream",
     "text": [
      "\r",
      "  0%|                                                    | 0/86 [00:00<?, ?it/s]"
     ]
    },
    {
     "name": "stdout",
     "output_type": "stream",
     "text": [
      "dir: ../uw-madison-gi-tract-image-segmentation/train/case22/case22_day0/scans, # of files: 72\n",
      "dir: ../uw-madison-gi-tract-image-segmentation/train/case49/case49_day15/scans, # of files: 73\n",
      "dir: ../uw-madison-gi-tract-image-segmentation/train/case49/case49_day0/scans, # of files: 72\n"
     ]
    },
    {
     "name": "stderr",
     "output_type": "stream",
     "text": [
      "\r",
      " 33%|█████████████▋                            | 28/86 [00:00<00:00, 279.90it/s]"
     ]
    },
    {
     "name": "stdout",
     "output_type": "stream",
     "text": [
      "dir: ../uw-madison-gi-tract-image-segmentation/train/case49/case49_day13/scans, # of files: 73\n",
      "dir: ../uw-madison-gi-tract-image-segmentation/train/case85/case85_day0/scans, # of files: 72\n",
      "dir: ../uw-madison-gi-tract-image-segmentation/train/case85/case85_day23/scans, # of files: 73\n",
      "dir: ../uw-madison-gi-tract-image-segmentation/train/case85/case85_day21/scans, # of files: 73\n",
      "dir: ../uw-madison-gi-tract-image-segmentation/train/case85/case85_day29/scans, # of files: 73\n",
      "dir: ../uw-madison-gi-tract-image-segmentation/train/case85/case85_day27/scans, # of files: 73\n",
      "dir: ../uw-madison-gi-tract-image-segmentation/train/case78/case78_day22/scans, # of files: 73\n",
      "dir: ../uw-madison-gi-tract-image-segmentation/train/case78/case78_day30/scans, # of files: 73\n",
      "dir: ../uw-madison-gi-tract-image-segmentation/train/case78/case78_day0/scans, # of files: 72\n",
      "dir: ../uw-madison-gi-tract-image-segmentation/train/case78/case78_day26/scans, # of files: 73\n",
      "dir: ../uw-madison-gi-tract-image-segmentation/train/case78/case78_day18/scans, # of files: 73\n",
      "dir: ../uw-madison-gi-tract-image-segmentation/train/case47/case47_day0/scans, # of files: 72\n",
      "dir: ../uw-madison-gi-tract-image-segmentation/train/case47/case47_day29/scans, # of files: 73\n",
      "dir: ../uw-madison-gi-tract-image-segmentation/train/case47/case47_day27/scans, # of files: 73\n",
      "dir: ../uw-madison-gi-tract-image-segmentation/train/case40/case40_day0/scans, # of files: 72\n",
      "dir: ../uw-madison-gi-tract-image-segmentation/train/case40/case40_day17/scans, # of files: 73\n",
      "dir: ../uw-madison-gi-tract-image-segmentation/train/case40/case40_day16/scans, # of files: 73\n",
      "dir: ../uw-madison-gi-tract-image-segmentation/train/case24/case24_day25/scans, # of files: 73\n",
      "dir: ../uw-madison-gi-tract-image-segmentation/train/case24/case24_day24/scans, # of files: 73\n",
      "dir: ../uw-madison-gi-tract-image-segmentation/train/case24/case24_day0/scans, # of files: 72\n",
      "dir: ../uw-madison-gi-tract-image-segmentation/train/case15/case15_day20/scans, # of files: 73\n",
      "dir: ../uw-madison-gi-tract-image-segmentation/train/case15/case15_day0/scans, # of files: 72\n",
      "dir: ../uw-madison-gi-tract-image-segmentation/train/case41/case41_day25/scans, # of files: 73\n",
      "dir: ../uw-madison-gi-tract-image-segmentation/train/case41/case41_day0/scans, # of files: 72\n",
      "dir: ../uw-madison-gi-tract-image-segmentation/train/case41/case41_day32/scans, # of files: 73\n",
      "dir: ../uw-madison-gi-tract-image-segmentation/train/case84/case84_day0/scans, # of files: 72\n",
      "dir: ../uw-madison-gi-tract-image-segmentation/train/case84/case84_day23/scans, # of files: 73\n",
      "dir: ../uw-madison-gi-tract-image-segmentation/train/case84/case84_day21/scans, # of files: 73\n",
      "dir: ../uw-madison-gi-tract-image-segmentation/train/case77/case77_day20/scans, # of files: 73\n",
      "dir: ../uw-madison-gi-tract-image-segmentation/train/case77/case77_day18/scans, # of files: 73\n",
      "dir: ../uw-madison-gi-tract-image-segmentation/train/case77/case77_day0/scans, # of files: 72\n",
      "dir: ../uw-madison-gi-tract-image-segmentation/train/case114/case114_day0/scans, # of files: 74\n",
      "dir: ../uw-madison-gi-tract-image-segmentation/train/case114/case114_day15/scans, # of files: 75\n",
      "dir: ../uw-madison-gi-tract-image-segmentation/train/case114/case114_day17/scans, # of files: 75\n",
      "dir: ../uw-madison-gi-tract-image-segmentation/train/case113/case113_day0/scans, # of files: 74\n",
      "dir: ../uw-madison-gi-tract-image-segmentation/train/case113/case113_day22/scans, # of files: 75\n",
      "dir: ../uw-madison-gi-tract-image-segmentation/train/case113/case113_day12/scans, # of files: 75\n",
      "dir: ../uw-madison-gi-tract-image-segmentation/train/case113/case113_day19/scans, # of files: 75\n",
      "dir: ../uw-madison-gi-tract-image-segmentation/train/case113/case113_day16/scans, # of files: 75\n",
      "dir: ../uw-madison-gi-tract-image-segmentation/train/case125/case125_day0/scans, # of files: 74\n",
      "dir: ../uw-madison-gi-tract-image-segmentation/train/case125/case125_day16/scans, # of files: 75\n",
      "dir: ../uw-madison-gi-tract-image-segmentation/train/case125/case125_day15/scans, # of files: 75\n",
      "dir: ../uw-madison-gi-tract-image-segmentation/train/case122/case122_day18/scans, # of files: 75\n",
      "dir: ../uw-madison-gi-tract-image-segmentation/train/case122/case122_day27/scans, # of files: 75\n",
      "dir: ../uw-madison-gi-tract-image-segmentation/train/case122/case122_day0/scans, # of files: 74\n",
      "dir: ../uw-madison-gi-tract-image-segmentation/train/case122/case122_day24/scans, # of files: 75\n",
      "dir: ../uw-madison-gi-tract-image-segmentation/train/case122/case122_day25/scans, # of files: 75\n",
      "dir: ../uw-madison-gi-tract-image-segmentation/train/case149/case149_day0/scans, # of files: 74\n",
      "dir: ../uw-madison-gi-tract-image-segmentation/train/case149/case149_day15/scans, # of files: 75\n",
      "dir: ../uw-madison-gi-tract-image-segmentation/train/case149/case149_day12/scans, # of files: 75\n",
      "dir: ../uw-madison-gi-tract-image-segmentation/train/case147/case147_day19/scans, # of files: 75\n",
      "dir: ../uw-madison-gi-tract-image-segmentation/train/case147/case147_day20/scans, # of files: 75\n",
      "dir: ../uw-madison-gi-tract-image-segmentation/train/case147/case147_day18/scans, # of files: 75\n",
      "dir: ../uw-madison-gi-tract-image-segmentation/train/case147/case147_day0/scans, # of files: 74\n",
      "dir: ../uw-madison-gi-tract-image-segmentation/train/case147/case147_day14/scans, # of files: 75\n",
      "dir: ../uw-madison-gi-tract-image-segmentation/train/case140/case140_day10/scans, # of files: 75\n",
      "dir: ../uw-madison-gi-tract-image-segmentation/train/case140/case140_day0/scans, # of files: 74\n",
      "dir: ../uw-madison-gi-tract-image-segmentation/train/case123/case123_day20/scans, # of files: 75\n",
      "dir: ../uw-madison-gi-tract-image-segmentation/train/case123/case123_day0/scans, # of files: 74\n",
      "dir: ../uw-madison-gi-tract-image-segmentation/train/case123/case123_day22/scans, # of files: 75\n",
      "dir: ../uw-madison-gi-tract-image-segmentation/train/case124/case124_day0/scans, # of files: 74\n",
      "dir: ../uw-madison-gi-tract-image-segmentation/train/case124/case124_day20/scans, # of files: 75\n",
      "dir: ../uw-madison-gi-tract-image-segmentation/train/case124/case124_day19/scans, # of files: 75\n",
      "dir: ../uw-madison-gi-tract-image-segmentation/train/case115/case115_day0/scans, # of files: 74\n",
      "dir: ../uw-madison-gi-tract-image-segmentation/train/case141/case141_day27/scans, # of files: 75\n",
      "dir: ../uw-madison-gi-tract-image-segmentation/train/case141/case141_day0/scans, # of files: 74\n",
      "dir: ../uw-madison-gi-tract-image-segmentation/train/case141/case141_day13/scans, # of files: 75\n",
      "dir: ../uw-madison-gi-tract-image-segmentation/train/case146/case146_day24/scans, # of files: 75\n",
      "dir: ../uw-madison-gi-tract-image-segmentation/train/case146/case146_day25/scans, # of files: 75\n",
      "dir: ../uw-madison-gi-tract-image-segmentation/train/case146/case146_day0/scans, # of files: 74\n",
      "dir: ../uw-madison-gi-tract-image-segmentation/train/case148/case148_day0/scans, # of files: 74\n",
      "dir: ../uw-madison-gi-tract-image-segmentation/train/case148/case148_day20/scans, # of files: 75\n",
      "dir: ../uw-madison-gi-tract-image-segmentation/train/case108/case108_day0/scans, # of files: 74\n",
      "dir: ../uw-madison-gi-tract-image-segmentation/train/case108/case108_day13/scans, # of files: 75\n",
      "dir: ../uw-madison-gi-tract-image-segmentation/train/case108/case108_day10/scans, # of files: 75\n",
      "dir: ../uw-madison-gi-tract-image-segmentation/train/case130/case130_day22/scans, # of files: 75\n",
      "dir: ../uw-madison-gi-tract-image-segmentation/train/case130/case130_day0/scans, # of files: 74\n",
      "dir: ../uw-madison-gi-tract-image-segmentation/train/case130/case130_day20/scans, # of files: 75\n",
      "dir: ../uw-madison-gi-tract-image-segmentation/train/case139/case139_day16/scans, # of files: 75\n",
      "dir: ../uw-madison-gi-tract-image-segmentation/train/case139/case139_day18/scans, # of files: 75\n",
      "dir: ../uw-madison-gi-tract-image-segmentation/train/case139/case139_day0/scans, # of files: 74\n",
      "dir: ../uw-madison-gi-tract-image-segmentation/train/case139/case139_day14/scans, # of files: 75\n",
      "dir: ../uw-madison-gi-tract-image-segmentation/train/case101/case101_day26/scans, # of files: 75\n",
      "dir: ../uw-madison-gi-tract-image-segmentation/train/case101/case101_day20/scans, # of files: 75\n",
      "dir: ../uw-madison-gi-tract-image-segmentation/train/case101/case101_day32/scans, # of files: 75\n",
      "dir: ../uw-madison-gi-tract-image-segmentation/train/case101/case101_day22/scans, # of files: 75\n",
      "dir: ../uw-madison-gi-tract-image-segmentation/train/case154/case154_day13/scans, # of files: 75\n",
      "dir: ../uw-madison-gi-tract-image-segmentation/train/case154/case154_day14/scans, # of files: 75\n",
      "dir: ../uw-madison-gi-tract-image-segmentation/train/case154/case154_day0/scans, # of files: 74\n",
      "dir: ../uw-madison-gi-tract-image-segmentation/train/case154/case154_day16/scans, # of files: 75\n",
      "dir: ../uw-madison-gi-tract-image-segmentation/train/case154/case154_day17/scans, # of files: 75\n",
      "dir: ../uw-madison-gi-tract-image-segmentation/train/case107/case107_day19/scans, # of files: 75\n",
      "dir: ../uw-madison-gi-tract-image-segmentation/train/case107/case107_day21/scans, # of files: 75\n",
      "dir: ../uw-madison-gi-tract-image-segmentation/train/case107/case107_day0/scans, # of files: 74\n",
      "dir: ../uw-madison-gi-tract-image-segmentation/train/case138/case138_day11/scans, # of files: 75\n",
      "dir: ../uw-madison-gi-tract-image-segmentation/train/case138/case138_day0/scans, # of files: 74\n",
      "dir: ../uw-madison-gi-tract-image-segmentation/train/case138/case138_day12/scans, # of files: 75\n",
      "dir: ../uw-madison-gi-tract-image-segmentation/train/case131/case131_day23/scans, # of files: 75\n",
      "dir: ../uw-madison-gi-tract-image-segmentation/train/case131/case131_day15/scans, # of files: 75\n",
      "dir: ../uw-madison-gi-tract-image-segmentation/train/case131/case131_day21/scans, # of files: 75\n",
      "dir: ../uw-madison-gi-tract-image-segmentation/train/case131/case131_day19/scans, # of files: 75\n",
      "dir: ../uw-madison-gi-tract-image-segmentation/train/case131/case131_day0/scans, # of files: 74\n",
      "dir: ../uw-madison-gi-tract-image-segmentation/train/case136/case136_day25/scans, # of files: 75\n",
      "dir: ../uw-madison-gi-tract-image-segmentation/train/case136/case136_day0/scans, # of files: 74\n",
      "dir: ../uw-madison-gi-tract-image-segmentation/train/case136/case136_day27/scans, # of files: 75\n",
      "dir: ../uw-madison-gi-tract-image-segmentation/train/case55/case55_day18/scans, # of files: 73\n",
      "dir: ../uw-madison-gi-tract-image-segmentation/train/case55/case55_day20/scans, # of files: 73\n",
      "dir: ../uw-madison-gi-tract-image-segmentation/train/case55/case55_day0/scans, # of files: 72\n",
      "dir: ../uw-madison-gi-tract-image-segmentation/train/case6/case6_day24/scans, # of files: 71\n",
      "dir: ../uw-madison-gi-tract-image-segmentation/train/case6/case6_day0/scans, # of files: 70\n",
      "dir: ../uw-madison-gi-tract-image-segmentation/train/case6/case6_day20/scans, # of files: 71\n",
      "dir: ../uw-madison-gi-tract-image-segmentation/train/case90/case90_day29/scans, # of files: 73\n",
      "dir: ../uw-madison-gi-tract-image-segmentation/train/case90/case90_day0/scans, # of files: 72\n",
      "dir: ../uw-madison-gi-tract-image-segmentation/train/case90/case90_day22/scans, # of files: 73\n",
      "dir: ../uw-madison-gi-tract-image-segmentation/train/case63/case63_day22/scans, # of files: 73\n",
      "dir: ../uw-madison-gi-tract-image-segmentation/train/case63/case63_day20/scans, # of files: 73\n",
      "dir: ../uw-madison-gi-tract-image-segmentation/train/case63/case63_day18/scans, # of files: 73\n",
      "dir: ../uw-madison-gi-tract-image-segmentation/train/case63/case63_day26/scans, # of files: 73\n",
      "dir: ../uw-madison-gi-tract-image-segmentation/train/case63/case63_day0/scans, # of files: 72\n",
      "dir: ../uw-madison-gi-tract-image-segmentation/train/case30/case30_day1/scans, # of files: 72\n",
      "dir: ../uw-madison-gi-tract-image-segmentation/train/case30/case30_day0/scans, # of files: 72\n",
      "dir: ../uw-madison-gi-tract-image-segmentation/train/case9/case9_day20/scans, # of files: 71\n",
      "dir: ../uw-madison-gi-tract-image-segmentation/train/case9/case9_day0/scans, # of files: 70\n",
      "dir: ../uw-madison-gi-tract-image-segmentation/train/case9/case9_day22/scans, # of files: 71\n",
      "dir: ../uw-madison-gi-tract-image-segmentation/train/case91/case91_day0/scans, # of files: 72\n",
      "dir: ../uw-madison-gi-tract-image-segmentation/train/case65/case65_day25/scans, # of files: 73\n",
      "dir: ../uw-madison-gi-tract-image-segmentation/train/case65/case65_day28/scans, # of files: 73\n",
      "dir: ../uw-madison-gi-tract-image-segmentation/train/case65/case65_day0/scans, # of files: 72\n",
      "dir: ../uw-madison-gi-tract-image-segmentation/train/case53/case53_day0/scans, # of files: 72\n",
      "dir: ../uw-madison-gi-tract-image-segmentation/train/case7/case7_day13/scans, # of files: 71\n",
      "dir: ../uw-madison-gi-tract-image-segmentation/train/case7/case7_day19/scans, # of files: 71\n",
      "dir: ../uw-madison-gi-tract-image-segmentation/train/case7/case7_day0/scans, # of files: 70\n",
      "dir: ../uw-madison-gi-tract-image-segmentation/train/case54/case54_day32/scans, # of files: 73\n",
      "dir: ../uw-madison-gi-tract-image-segmentation/train/case54/case54_day35/scans, # of files: 73\n",
      "dir: ../uw-madison-gi-tract-image-segmentation/train/case54/case54_day0/scans, # of files: 72\n",
      "dir: ../uw-madison-gi-tract-image-segmentation/train/case54/case54_day39/scans, # of files: 73\n",
      "dir: ../uw-madison-gi-tract-image-segmentation/train/case54/case54_day30/scans, # of files: 73\n",
      "dir: ../uw-madison-gi-tract-image-segmentation/train/case36/case36_day10/scans, # of files: 73\n",
      "dir: ../uw-madison-gi-tract-image-segmentation/train/case36/case36_day16/scans, # of files: 73\n",
      "dir: ../uw-madison-gi-tract-image-segmentation/train/case36/case36_day0/scans, # of files: 72\n",
      "dir: ../uw-madison-gi-tract-image-segmentation/train/case36/case36_day6/scans, # of files: 72\n",
      "dir: ../uw-madison-gi-tract-image-segmentation/train/case36/case36_day8/scans, # of files: 72\n",
      "dir: ../uw-madison-gi-tract-image-segmentation/train/case36/case36_day14/scans, # of files: 73\n",
      "dir: ../uw-madison-gi-tract-image-segmentation/train/case81/case81_day30/scans, # of files: 73\n",
      "dir: ../uw-madison-gi-tract-image-segmentation/train/case81/case81_day0/scans, # of files: 72\n",
      "dir: ../uw-madison-gi-tract-image-segmentation/train/case81/case81_day28/scans, # of files: 73\n",
      "dir: ../uw-madison-gi-tract-image-segmentation/train/case88/case88_day0/scans, # of files: 72\n",
      "dir: ../uw-madison-gi-tract-image-segmentation/train/case88/case88_day36/scans, # of files: 73\n"
     ]
    },
    {
     "name": "stdout",
     "output_type": "stream",
     "text": [
      "dir: ../uw-madison-gi-tract-image-segmentation/train/case88/case88_day38/scans, # of files: 73\n",
      "dir: ../uw-madison-gi-tract-image-segmentation/train/case43/case43_day22/scans, # of files: 73\n",
      "dir: ../uw-madison-gi-tract-image-segmentation/train/case43/case43_day26/scans, # of files: 73\n"
     ]
    },
    {
     "name": "stderr",
     "output_type": "stream",
     "text": [
      "100%|██████████████████████████████████████████| 86/86 [00:00<00:00, 256.32it/s]"
     ]
    },
    {
     "name": "stdout",
     "output_type": "stream",
     "text": [
      "dir: ../uw-madison-gi-tract-image-segmentation/train/case43/case43_day18/scans, # of files: 73\n",
      "dir: ../uw-madison-gi-tract-image-segmentation/train/case43/case43_day0/scans, # of files: 72\n",
      "dir: ../uw-madison-gi-tract-image-segmentation/train/case43/case43_day20/scans, # of files: 73\n",
      "dir: ../uw-madison-gi-tract-image-segmentation/train/case44/case44_day20/scans, # of files: 73\n",
      "dir: ../uw-madison-gi-tract-image-segmentation/train/case44/case44_day19/scans, # of files: 73\n",
      "dir: ../uw-madison-gi-tract-image-segmentation/train/case44/case44_day0/scans, # of files: 72\n",
      "dir: ../uw-madison-gi-tract-image-segmentation/train/case19/case19_day14/scans, # of files: 73\n",
      "dir: ../uw-madison-gi-tract-image-segmentation/train/case19/case19_day22/scans, # of files: 73\n",
      "dir: ../uw-madison-gi-tract-image-segmentation/train/case19/case19_day12/scans, # of files: 73\n",
      "dir: ../uw-madison-gi-tract-image-segmentation/train/case19/case19_day18/scans, # of files: 73\n",
      "dir: ../uw-madison-gi-tract-image-segmentation/train/case19/case19_day0/scans, # of files: 72\n",
      "dir: ../uw-madison-gi-tract-image-segmentation/train/case89/case89_day0/scans, # of files: 72\n",
      "dir: ../uw-madison-gi-tract-image-segmentation/train/case89/case89_day20/scans, # of files: 73\n",
      "dir: ../uw-madison-gi-tract-image-segmentation/train/case89/case89_day17/scans, # of files: 73\n",
      "dir: ../uw-madison-gi-tract-image-segmentation/train/case89/case89_day21/scans, # of files: 73\n",
      "dir: ../uw-madison-gi-tract-image-segmentation/train/case89/case89_day19/scans, # of files: 73\n",
      "dir: ../uw-madison-gi-tract-image-segmentation/train/case42/case42_day0/scans, # of files: 72\n",
      "dir: ../uw-madison-gi-tract-image-segmentation/train/case42/case42_day17/scans, # of files: 73\n",
      "dir: ../uw-madison-gi-tract-image-segmentation/train/case42/case42_day19/scans, # of files: 73\n",
      "dir: ../uw-madison-gi-tract-image-segmentation/train/case80/case80_day14/scans, # of files: 73\n",
      "dir: ../uw-madison-gi-tract-image-segmentation/train/case80/case80_day0/scans, # of files: 72\n",
      "dir: ../uw-madison-gi-tract-image-segmentation/train/case80/case80_day10/scans, # of files: 73\n",
      "dir: ../uw-madison-gi-tract-image-segmentation/train/case74/case74_day18/scans, # of files: 73\n",
      "dir: ../uw-madison-gi-tract-image-segmentation/train/case74/case74_day19/scans, # of files: 73\n",
      "dir: ../uw-madison-gi-tract-image-segmentation/train/case74/case74_day0/scans, # of files: 72\n",
      "dir: ../uw-madison-gi-tract-image-segmentation/train/case74/case74_day15/scans, # of files: 73\n",
      "dir: ../uw-madison-gi-tract-image-segmentation/train/case74/case74_day13/scans, # of files: 73\n",
      "dir: ../uw-madison-gi-tract-image-segmentation/train/case18/case18_day25/scans, # of files: 73\n",
      "dir: ../uw-madison-gi-tract-image-segmentation/train/case18/case18_day0/scans, # of files: 72\n",
      "dir: ../uw-madison-gi-tract-image-segmentation/train/case18/case18_day19/scans, # of files: 73\n",
      "dir: ../uw-madison-gi-tract-image-segmentation/train/case18/case18_day21/scans, # of files: 73\n",
      "dir: ../uw-madison-gi-tract-image-segmentation/train/case18/case18_day17/scans, # of files: 73\n",
      "dir: ../uw-madison-gi-tract-image-segmentation/train/case20/case20_day24/scans, # of files: 73\n",
      "dir: ../uw-madison-gi-tract-image-segmentation/train/case20/case20_day22/scans, # of files: 73\n",
      "dir: ../uw-madison-gi-tract-image-segmentation/train/case20/case20_day0/scans, # of files: 72\n",
      "dir: ../uw-madison-gi-tract-image-segmentation/train/case16/case16_day0/scans, # of files: 72\n",
      "dir: ../uw-madison-gi-tract-image-segmentation/train/case29/case29_day14/scans, # of files: 73\n",
      "dir: ../uw-madison-gi-tract-image-segmentation/train/case29/case29_day13/scans, # of files: 73\n",
      "dir: ../uw-madison-gi-tract-image-segmentation/train/case29/case29_day0/scans, # of files: 72\n",
      "dir: ../uw-madison-gi-tract-image-segmentation/train/case11/case11_day0/scans, # of files: 72\n",
      "dir: ../uw-madison-gi-tract-image-segmentation/train/case11/case11_day13/scans, # of files: 73\n",
      "dir: ../uw-madison-gi-tract-image-segmentation/train/case11/case11_day12/scans, # of files: 73\n",
      "dir: ../uw-madison-gi-tract-image-segmentation/train/case143/case143_day18/scans, # of files: 75\n",
      "dir: ../uw-madison-gi-tract-image-segmentation/train/case143/case143_day0/scans, # of files: 74\n",
      "dir: ../uw-madison-gi-tract-image-segmentation/train/case143/case143_day23/scans, # of files: 75\n",
      "dir: ../uw-madison-gi-tract-image-segmentation/train/case144/case144_day0/scans, # of files: 74\n",
      "dir: ../uw-madison-gi-tract-image-segmentation/train/case144/case144_day14/scans, # of files: 75\n",
      "dir: ../uw-madison-gi-tract-image-segmentation/train/case144/case144_day15/scans, # of files: 75\n",
      "dir: ../uw-madison-gi-tract-image-segmentation/train/case110/case110_day12/scans, # of files: 75\n",
      "dir: ../uw-madison-gi-tract-image-segmentation/train/case110/case110_day16/scans, # of files: 75\n",
      "dir: ../uw-madison-gi-tract-image-segmentation/train/case117/case117_day15/scans, # of files: 75\n",
      "dir: ../uw-madison-gi-tract-image-segmentation/train/case117/case117_day13/scans, # of files: 75\n",
      "dir: ../uw-madison-gi-tract-image-segmentation/train/case117/case117_day16/scans, # of files: 75\n",
      "dir: ../uw-madison-gi-tract-image-segmentation/train/case117/case117_day17/scans, # of files: 75\n",
      "dir: ../uw-madison-gi-tract-image-segmentation/train/case117/case117_day0/scans, # of files: 74\n",
      "dir: ../uw-madison-gi-tract-image-segmentation/train/case121/case121_day16/scans, # of files: 75\n",
      "dir: ../uw-madison-gi-tract-image-segmentation/train/case121/case121_day14/scans, # of files: 75\n",
      "dir: ../uw-madison-gi-tract-image-segmentation/train/case121/case121_day0/scans, # of files: 74\n",
      "dir: ../uw-madison-gi-tract-image-segmentation/train/case119/case119_day0/scans, # of files: 74\n",
      "dir: ../uw-madison-gi-tract-image-segmentation/train/case119/case119_day20/scans, # of files: 75\n",
      "dir: ../uw-madison-gi-tract-image-segmentation/train/case119/case119_day21/scans, # of files: 75\n",
      "dir: ../uw-madison-gi-tract-image-segmentation/train/case119/case119_day19/scans, # of files: 75\n",
      "dir: ../uw-madison-gi-tract-image-segmentation/train/case119/case119_day25/scans, # of files: 75\n",
      "dir: ../uw-madison-gi-tract-image-segmentation/train/case145/case145_day0/scans, # of files: 74\n",
      "dir: ../uw-madison-gi-tract-image-segmentation/train/case145/case145_day20/scans, # of files: 75\n",
      "dir: ../uw-madison-gi-tract-image-segmentation/train/case145/case145_day19/scans, # of files: 75\n",
      "dir: ../uw-madison-gi-tract-image-segmentation/train/case142/case142_day16/scans, # of files: 75\n",
      "dir: ../uw-madison-gi-tract-image-segmentation/train/case142/case142_day0/scans, # of files: 74\n",
      "dir: ../uw-madison-gi-tract-image-segmentation/train/case142/case142_day14/scans, # of files: 75\n",
      "dir: ../uw-madison-gi-tract-image-segmentation/train/case118/case118_day16/scans, # of files: 75\n",
      "dir: ../uw-madison-gi-tract-image-segmentation/train/case118/case118_day0/scans, # of files: 74\n",
      "dir: ../uw-madison-gi-tract-image-segmentation/train/case118/case118_day14/scans, # of files: 75\n",
      "dir: ../uw-madison-gi-tract-image-segmentation/train/case129/case129_day0/scans, # of files: 74\n",
      "dir: ../uw-madison-gi-tract-image-segmentation/train/case129/case129_day24/scans, # of files: 75\n",
      "dir: ../uw-madison-gi-tract-image-segmentation/train/case129/case129_day22/scans, # of files: 75\n",
      "dir: ../uw-madison-gi-tract-image-segmentation/train/case129/case129_day27/scans, # of files: 75\n",
      "dir: ../uw-madison-gi-tract-image-segmentation/train/case129/case129_day20/scans, # of files: 75\n",
      "dir: ../uw-madison-gi-tract-image-segmentation/train/case116/case116_day0/scans, # of files: 74\n",
      "dir: ../uw-madison-gi-tract-image-segmentation/train/case111/case111_day19/scans, # of files: 75\n",
      "dir: ../uw-madison-gi-tract-image-segmentation/train/case111/case111_day0/scans, # of files: 74\n",
      "dir: ../uw-madison-gi-tract-image-segmentation/train/case133/case133_day23/scans, # of files: 75\n",
      "dir: ../uw-madison-gi-tract-image-segmentation/train/case133/case133_day25/scans, # of files: 75\n",
      "dir: ../uw-madison-gi-tract-image-segmentation/train/case133/case133_day0/scans, # of files: 74\n",
      "dir: ../uw-madison-gi-tract-image-segmentation/train/case134/case134_day0/scans, # of files: 74\n",
      "dir: ../uw-madison-gi-tract-image-segmentation/train/case134/case134_day22/scans, # of files: 75\n",
      "dir: ../uw-madison-gi-tract-image-segmentation/train/case134/case134_day21/scans, # of files: 75\n",
      "dir: ../uw-madison-gi-tract-image-segmentation/train/case102/case102_day0/scans, # of files: 74\n",
      "dir: ../uw-madison-gi-tract-image-segmentation/train/case156/case156_day10/scans, # of files: 75\n",
      "dir: ../uw-madison-gi-tract-image-segmentation/train/case156/case156_day0/scans, # of files: 74\n",
      "dir: ../uw-madison-gi-tract-image-segmentation/train/case156/case156_day11/scans, # of files: 75\n",
      "dir: ../uw-madison-gi-tract-image-segmentation/train/case135/case135_day0/scans, # of files: 74\n",
      "dir: ../uw-madison-gi-tract-image-segmentation/train/case135/case135_day17/scans, # of files: 75\n",
      "dir: ../uw-madison-gi-tract-image-segmentation/train/case33/case33_day21/scans, # of files: 73\n",
      "dir: ../uw-madison-gi-tract-image-segmentation/train/case33/case33_day0/scans, # of files: 72\n",
      "dir: ../uw-madison-gi-tract-image-segmentation/train/case34/case34_day16/scans, # of files: 73\n",
      "dir: ../uw-madison-gi-tract-image-segmentation/train/case34/case34_day15/scans, # of files: 73\n",
      "dir: ../uw-madison-gi-tract-image-segmentation/train/case34/case34_day0/scans, # of files: 72\n",
      "dir: ../uw-madison-gi-tract-image-segmentation/train/case2/case2_day1/scans, # of files: 70\n",
      "dir: ../uw-madison-gi-tract-image-segmentation/train/case2/case2_day3/scans, # of files: 70\n",
      "dir: ../uw-madison-gi-tract-image-segmentation/train/case2/case2_day4/scans, # of files: 70\n",
      "dir: ../uw-madison-gi-tract-image-segmentation/train/case2/case2_day5/scans, # of files: 70\n",
      "dir: ../uw-madison-gi-tract-image-segmentation/train/case2/case2_day2/scans, # of files: 70\n",
      "dir: ../uw-madison-gi-tract-image-segmentation/train/case67/case67_day12/scans, # of files: 73\n",
      "dir: ../uw-madison-gi-tract-image-segmentation/train/case67/case67_day0/scans, # of files: 72\n",
      "dir: ../uw-madison-gi-tract-image-segmentation/train/case67/case67_day16/scans, # of files: 73\n",
      "dir: ../uw-madison-gi-tract-image-segmentation/train/case58/case58_day0/scans, # of files: 72\n",
      "dir: ../uw-madison-gi-tract-image-segmentation/train/case35/case35_day18/scans, # of files: 73\n",
      "dir: ../uw-madison-gi-tract-image-segmentation/train/case35/case35_day0/scans, # of files: 72\n",
      "dir: ../uw-madison-gi-tract-image-segmentation/train/case35/case35_day13/scans, # of files: 73\n",
      "dir: ../uw-madison-gi-tract-image-segmentation/train/case35/case35_day15/scans, # of files: 73\n",
      "dir: ../uw-madison-gi-tract-image-segmentation/train/case35/case35_day12/scans, # of files: 73\n",
      "dir: ../uw-madison-gi-tract-image-segmentation/train/case32/case32_day20/scans, # of files: 73\n",
      "dir: ../uw-madison-gi-tract-image-segmentation/train/case32/case32_day18/scans, # of files: 73\n",
      "dir: ../uw-madison-gi-tract-image-segmentation/train/case32/case32_day17/scans, # of files: 73\n",
      "dir: ../uw-madison-gi-tract-image-segmentation/train/case32/case32_day19/scans, # of files: 73\n",
      "dir: ../uw-madison-gi-tract-image-segmentation/train/case32/case32_day0/scans, # of files: 72\n",
      "dir: ../uw-madison-gi-tract-image-segmentation/train/case92/case92_day0/scans, # of files: 72\n",
      "dir: ../uw-madison-gi-tract-image-segmentation/train/case66/case66_day0/scans, # of files: 72\n",
      "dir: ../uw-madison-gi-tract-image-segmentation/train/case66/case66_day36/scans, # of files: 73\n",
      "dir: ../uw-madison-gi-tract-image-segmentation/train/case66/case66_day34/scans, # of files: 73\n"
     ]
    },
    {
     "name": "stderr",
     "output_type": "stream",
     "text": [
      "\n"
     ]
    }
   ],
   "source": [
    "for case in tqdm(os.listdir(cfg.BASE_DIR)):\n",
    "    if case == '.DS_Store':\n",
    "        continue\n",
    "    for day in os.listdir(os.path.join(cfg.BASE_DIR, case)):\n",
    "        if day == '.DS_Store':\n",
    "            continue\n",
    "        DAYS += 1\n",
    "        for file in os.listdir(os.path.join(cfg.BASE_DIR, case, day, 'scans')):\n",
    "            if file == '.DS_Store':\n",
    "                continue\n",
    "            slices = file.split('_')\n",
    "            _id = day + '_' + slices[0] + '_' + slices[1]\n",
    "            ID.append(_id)\n",
    "            HEIGHT.append(slices[2])\n",
    "            WIDTH.append(slices[3])\n",
    "            PATHS.append(os.path.join(cfg.BASE_DIR, case, day, 'scans', file))\n",
    "            TOTAL += 1\n",
    "            \n",
    "        print(f'dir: {os.path.join(cfg.BASE_DIR, case, day, \"scans\")}, # of files: {len(os.path.join(cfg.BASE_DIR, case, day, \"scans\"))}')"
   ]
  },
  {
   "cell_type": "code",
   "execution_count": 11,
   "id": "5c027af6",
   "metadata": {},
   "outputs": [
    {
     "data": {
      "text/plain": [
       "(274, 38496)"
      ]
     },
     "execution_count": 11,
     "metadata": {},
     "output_type": "execute_result"
    }
   ],
   "source": [
    "DAYS, TOTAL"
   ]
  },
  {
   "cell_type": "code",
   "execution_count": 12,
   "id": "b8e67eb8",
   "metadata": {},
   "outputs": [
    {
     "data": {
      "text/plain": [
       "38496"
      ]
     },
     "execution_count": 12,
     "metadata": {},
     "output_type": "execute_result"
    }
   ],
   "source": [
    "len(glob.glob('../uw-madison-gi-tract-image-segmentation/train/*/*/*/*.png'))"
   ]
  },
  {
   "cell_type": "code",
   "execution_count": 13,
   "id": "ae6f66ae",
   "metadata": {},
   "outputs": [],
   "source": [
    "df2 = pd.DataFrame({\n",
    "    'id': ID,\n",
    "    'img_path': PATHS,\n",
    "    'WIDTH': WIDTH,\n",
    "    'HEIGHT': HEIGHT\n",
    "})"
   ]
  },
  {
   "cell_type": "code",
   "execution_count": 14,
   "id": "6d1531db",
   "metadata": {},
   "outputs": [
    {
     "data": {
      "text/plain": [
       "38496"
      ]
     },
     "execution_count": 14,
     "metadata": {},
     "output_type": "execute_result"
    }
   ],
   "source": [
    "df.id.nunique()"
   ]
  },
  {
   "cell_type": "code",
   "execution_count": 15,
   "id": "3ac2cd2d",
   "metadata": {},
   "outputs": [],
   "source": [
    "df = df.merge(df2, on='id')"
   ]
  },
  {
   "cell_type": "markdown",
   "id": "a7372ffa",
   "metadata": {},
   "source": [
    "## Run Length Encoding\n",
    "\n",
    "This is lossless compression and it is versy simple to practice on. The concept of RLE compression is that check for the consecutive runs of the current pixel value. This algorithm works best on binary images.\n",
    "\n",
    "Let's take an example image: `[1 0 1 1 1 0 0 0 1 1 0 1 1 0 0 0]`, have 16 pixels and it is binary. Now using RLE, we do something like below:\n",
    "- At the begining, current pointer is first value i.e. 1. Now compressed image `[11]`. Which means 1 has repeated 1 times consecutively.\n",
    "- Next, value is 0. Again, it is repeated 1 time, hence the compressed image is `[11 01]`.\n",
    "    - This means 1 is repeated 1 times, and 0 repeated 1 times.\n",
    "- Then, 1 occurs 3 times. So, it would be written as `[10 01 10 03]`.\n",
    "- Similary, it would end as: `[11 01 10 03 12 01 12 03]`"
   ]
  },
  {
   "cell_type": "code",
   "execution_count": 16,
   "id": "59814cda",
   "metadata": {},
   "outputs": [
    {
     "data": {
      "text/html": [
       "<div>\n",
       "<style scoped>\n",
       "    .dataframe tbody tr th:only-of-type {\n",
       "        vertical-align: middle;\n",
       "    }\n",
       "\n",
       "    .dataframe tbody tr th {\n",
       "        vertical-align: top;\n",
       "    }\n",
       "\n",
       "    .dataframe thead th {\n",
       "        text-align: right;\n",
       "    }\n",
       "</style>\n",
       "<table border=\"1\" class=\"dataframe\">\n",
       "  <thead>\n",
       "    <tr style=\"text-align: right;\">\n",
       "      <th></th>\n",
       "      <th>id</th>\n",
       "      <th>class</th>\n",
       "      <th>segmentation</th>\n",
       "      <th>img_path</th>\n",
       "      <th>WIDTH</th>\n",
       "      <th>HEIGHT</th>\n",
       "    </tr>\n",
       "  </thead>\n",
       "  <tbody>\n",
       "    <tr>\n",
       "      <th>194</th>\n",
       "      <td>case123_day20_slice_0065</td>\n",
       "      <td>stomach</td>\n",
       "      <td>28094 3 28358 7 28623 9 28889 9 29155 9 29421 ...</td>\n",
       "      <td>../uw-madison-gi-tract-image-segmentation/trai...</td>\n",
       "      <td>266</td>\n",
       "      <td>266</td>\n",
       "    </tr>\n",
       "    <tr>\n",
       "      <th>197</th>\n",
       "      <td>case123_day20_slice_0066</td>\n",
       "      <td>stomach</td>\n",
       "      <td>27561 8 27825 11 28090 13 28355 14 28620 15 28...</td>\n",
       "      <td>../uw-madison-gi-tract-image-segmentation/trai...</td>\n",
       "      <td>266</td>\n",
       "      <td>266</td>\n",
       "    </tr>\n",
       "    <tr>\n",
       "      <th>200</th>\n",
       "      <td>case123_day20_slice_0067</td>\n",
       "      <td>stomach</td>\n",
       "      <td>15323 4 15587 8 15852 10 16117 11 16383 12 166...</td>\n",
       "      <td>../uw-madison-gi-tract-image-segmentation/trai...</td>\n",
       "      <td>266</td>\n",
       "      <td>266</td>\n",
       "    </tr>\n",
       "    <tr>\n",
       "      <th>203</th>\n",
       "      <td>case123_day20_slice_0068</td>\n",
       "      <td>stomach</td>\n",
       "      <td>14792 5 15056 9 15321 11 15587 11 15852 13 161...</td>\n",
       "      <td>../uw-madison-gi-tract-image-segmentation/trai...</td>\n",
       "      <td>266</td>\n",
       "      <td>266</td>\n",
       "    </tr>\n",
       "    <tr>\n",
       "      <th>206</th>\n",
       "      <td>case123_day20_slice_0069</td>\n",
       "      <td>stomach</td>\n",
       "      <td>14526 6 14789 12 15054 14 15319 16 15584 17 15...</td>\n",
       "      <td>../uw-madison-gi-tract-image-segmentation/trai...</td>\n",
       "      <td>266</td>\n",
       "      <td>266</td>\n",
       "    </tr>\n",
       "    <tr>\n",
       "      <th>...</th>\n",
       "      <td>...</td>\n",
       "      <td>...</td>\n",
       "      <td>...</td>\n",
       "      <td>...</td>\n",
       "      <td>...</td>\n",
       "      <td>...</td>\n",
       "    </tr>\n",
       "    <tr>\n",
       "      <th>115459</th>\n",
       "      <td>case30_day0_slice_0135</td>\n",
       "      <td>small_bowel</td>\n",
       "      <td>22540 1 22804 5 23069 7 23334 10 23600 11 2386...</td>\n",
       "      <td>../uw-madison-gi-tract-image-segmentation/trai...</td>\n",
       "      <td>266</td>\n",
       "      <td>266</td>\n",
       "    </tr>\n",
       "    <tr>\n",
       "      <th>115461</th>\n",
       "      <td>case30_day0_slice_0136</td>\n",
       "      <td>large_bowel</td>\n",
       "      <td>18746 7 19009 23 19038 7 19273 44 19537 49 198...</td>\n",
       "      <td>../uw-madison-gi-tract-image-segmentation/trai...</td>\n",
       "      <td>266</td>\n",
       "      <td>266</td>\n",
       "    </tr>\n",
       "    <tr>\n",
       "      <th>115462</th>\n",
       "      <td>case30_day0_slice_0136</td>\n",
       "      <td>small_bowel</td>\n",
       "      <td>23079 1 23343 6 23608 9 23874 11 24139 13 2440...</td>\n",
       "      <td>../uw-madison-gi-tract-image-segmentation/trai...</td>\n",
       "      <td>266</td>\n",
       "      <td>266</td>\n",
       "    </tr>\n",
       "    <tr>\n",
       "      <th>115464</th>\n",
       "      <td>case30_day0_slice_0137</td>\n",
       "      <td>large_bowel</td>\n",
       "      <td>18746 2 19010 8 19040 3 19274 25 19302 12 1953...</td>\n",
       "      <td>../uw-madison-gi-tract-image-segmentation/trai...</td>\n",
       "      <td>266</td>\n",
       "      <td>266</td>\n",
       "    </tr>\n",
       "    <tr>\n",
       "      <th>115465</th>\n",
       "      <td>case30_day0_slice_0137</td>\n",
       "      <td>small_bowel</td>\n",
       "      <td>21457 6 21722 10 21987 15 22252 18 22517 21 22...</td>\n",
       "      <td>../uw-madison-gi-tract-image-segmentation/trai...</td>\n",
       "      <td>266</td>\n",
       "      <td>266</td>\n",
       "    </tr>\n",
       "  </tbody>\n",
       "</table>\n",
       "<p>33913 rows × 6 columns</p>\n",
       "</div>"
      ],
      "text/plain": [
       "                              id        class  \\\n",
       "194     case123_day20_slice_0065      stomach   \n",
       "197     case123_day20_slice_0066      stomach   \n",
       "200     case123_day20_slice_0067      stomach   \n",
       "203     case123_day20_slice_0068      stomach   \n",
       "206     case123_day20_slice_0069      stomach   \n",
       "...                          ...          ...   \n",
       "115459    case30_day0_slice_0135  small_bowel   \n",
       "115461    case30_day0_slice_0136  large_bowel   \n",
       "115462    case30_day0_slice_0136  small_bowel   \n",
       "115464    case30_day0_slice_0137  large_bowel   \n",
       "115465    case30_day0_slice_0137  small_bowel   \n",
       "\n",
       "                                             segmentation  \\\n",
       "194     28094 3 28358 7 28623 9 28889 9 29155 9 29421 ...   \n",
       "197     27561 8 27825 11 28090 13 28355 14 28620 15 28...   \n",
       "200     15323 4 15587 8 15852 10 16117 11 16383 12 166...   \n",
       "203     14792 5 15056 9 15321 11 15587 11 15852 13 161...   \n",
       "206     14526 6 14789 12 15054 14 15319 16 15584 17 15...   \n",
       "...                                                   ...   \n",
       "115459  22540 1 22804 5 23069 7 23334 10 23600 11 2386...   \n",
       "115461  18746 7 19009 23 19038 7 19273 44 19537 49 198...   \n",
       "115462  23079 1 23343 6 23608 9 23874 11 24139 13 2440...   \n",
       "115464  18746 2 19010 8 19040 3 19274 25 19302 12 1953...   \n",
       "115465  21457 6 21722 10 21987 15 22252 18 22517 21 22...   \n",
       "\n",
       "                                                 img_path WIDTH HEIGHT  \n",
       "194     ../uw-madison-gi-tract-image-segmentation/trai...   266    266  \n",
       "197     ../uw-madison-gi-tract-image-segmentation/trai...   266    266  \n",
       "200     ../uw-madison-gi-tract-image-segmentation/trai...   266    266  \n",
       "203     ../uw-madison-gi-tract-image-segmentation/trai...   266    266  \n",
       "206     ../uw-madison-gi-tract-image-segmentation/trai...   266    266  \n",
       "...                                                   ...   ...    ...  \n",
       "115459  ../uw-madison-gi-tract-image-segmentation/trai...   266    266  \n",
       "115461  ../uw-madison-gi-tract-image-segmentation/trai...   266    266  \n",
       "115462  ../uw-madison-gi-tract-image-segmentation/trai...   266    266  \n",
       "115464  ../uw-madison-gi-tract-image-segmentation/trai...   266    266  \n",
       "115465  ../uw-madison-gi-tract-image-segmentation/trai...   266    266  \n",
       "\n",
       "[33913 rows x 6 columns]"
      ]
     },
     "execution_count": 16,
     "metadata": {},
     "output_type": "execute_result"
    }
   ],
   "source": [
    "df[~df['segmentation'].isna()]"
   ]
  },
  {
   "cell_type": "code",
   "execution_count": 17,
   "id": "c6aacfda",
   "metadata": {},
   "outputs": [
    {
     "data": {
      "text/plain": [
       "'21915 6 22180 9 22444 11 22709 12 22974 14 23240 14 23506 13 23772 12 24039 10 24306 7'"
      ]
     },
     "execution_count": 17,
     "metadata": {},
     "output_type": "execute_result"
    }
   ],
   "source": [
    "df[~df['segmentation'].isna()].iloc[194]['segmentation']"
   ]
  },
  {
   "cell_type": "code",
   "execution_count": 18,
   "id": "018f04ff",
   "metadata": {},
   "outputs": [
    {
     "data": {
      "text/plain": [
       "'../uw-madison-gi-tract-image-segmentation/train/case123/case123_day20/scans/slice_0065_266_266_1.50_1.50.png'"
      ]
     },
     "execution_count": 18,
     "metadata": {},
     "output_type": "execute_result"
    }
   ],
   "source": [
    "df[df.id == 'case123_day20_slice_0065']['img_path'][194]"
   ]
  },
  {
   "cell_type": "code",
   "execution_count": 19,
   "id": "095bfd8a",
   "metadata": {},
   "outputs": [],
   "source": [
    "def rle_decode(mask_rle, shape):\n",
    "    '''\n",
    "    Extracted from: https://www.kaggle.com/code/paulorzp/run-length-encode-and-decode/script\n",
    "    \n",
    "    mask_rle: run-length as string formated (start length)\n",
    "    shape: (height,width) of array to return \n",
    "    Returns numpy array, 1 - mask, 0 - background\n",
    "    '''\n",
    "    s = mask_rle.split()\n",
    "    starts, lengths = [np.asarray(x, dtype=int) for x in (s[0:][::2], s[1:][::2])]\n",
    "    starts -= 1\n",
    "    ends = starts + lengths\n",
    "    img = np.zeros(shape[0]*shape[1], dtype=np.uint8)\n",
    "    for lo, hi in zip(starts, ends):\n",
    "        img[lo:hi] = 1\n",
    "    return img.reshape(shape)"
   ]
  },
  {
   "cell_type": "code",
   "execution_count": 20,
   "id": "be5b0435",
   "metadata": {},
   "outputs": [],
   "source": [
    "def rle_encode(img):\n",
    "    '''\n",
    "    Extracted from: https://www.kaggle.com/code/paulorzp/run-length-encode-and-decode/script\n",
    "    \n",
    "    img: numpy array, 1 - mask, 0 - background\n",
    "    Returns run length as string formated\n",
    "    '''\n",
    "    pixels = img.flatten()\n",
    "    pixels = np.concatenate([[0], pixels, [0]])\n",
    "    runs = np.where(pixels[1:] != pixels[:-1])[0] + 1\n",
    "    runs[1::2] -= runs[::2]\n",
    "    return ' '.join(str(x) for x in runs)"
   ]
  },
  {
   "cell_type": "code",
   "execution_count": 21,
   "id": "05586e46",
   "metadata": {},
   "outputs": [
    {
     "data": {
      "image/png": "[encoded data removed]",
      "text/plain": [
       "<Figure size 432x288 with 1 Axes>"
      ]
     },
     "metadata": {
      "needs_background": "light"
     },
     "output_type": "display_data"
    }
   ],
   "source": [
    "dec = rle_decode(df[~df['segmentation'].isna()].iloc[5]['segmentation'], (266, 266))\n",
    "\n",
    "plt.imshow(dec);"
   ]
  },
  {
   "cell_type": "code",
   "execution_count": 22,
   "id": "d5d33156",
   "metadata": {},
   "outputs": [
    {
     "data": {
      "text/plain": [
       "array(['large_bowel', 'small_bowel', 'stomach'], dtype=object)"
      ]
     },
     "execution_count": 22,
     "metadata": {},
     "output_type": "execute_result"
    }
   ],
   "source": [
    "df['class'].unique()"
   ]
  },
  {
   "cell_type": "code",
   "execution_count": 23,
   "id": "23d7f31b",
   "metadata": {},
   "outputs": [],
   "source": [
    "colors = {\n",
    "    'large_bowel': (1, 0, 0),\n",
    "    'small_bowel': (0, 1, 0),\n",
    "    'stomach': (0, 0, 1)\n",
    "}"
   ]
  },
  {
   "cell_type": "code",
   "execution_count": 24,
   "id": "0a87f9c0",
   "metadata": {},
   "outputs": [
    {
     "data": {
      "image/png": "[encoded data removed]",
      "text/plain": [
       "<Figure size 432x288 with 1 Axes>"
      ]
     },
     "metadata": {
      "needs_background": "light"
     },
     "output_type": "display_data"
    }
   ],
   "source": [
    "rgb = np.zeros((266, 266, 3))\n",
    "\n",
    "for i in range(266):\n",
    "    for j in range(266):\n",
    "        rgb[i, j, :] = dec[i, j]\n",
    "\n",
    "plt.imshow(rgb)\n",
    "plt.title(rgb.shape);"
   ]
  },
  {
   "cell_type": "code",
   "execution_count": 25,
   "id": "d0cf8209",
   "metadata": {},
   "outputs": [
    {
     "data": {
      "text/plain": [
       "1"
      ]
     },
     "execution_count": 25,
     "metadata": {},
     "output_type": "execute_result"
    }
   ],
   "source": [
    "dec.max()"
   ]
  },
  {
   "cell_type": "code",
   "execution_count": 26,
   "id": "09affe94",
   "metadata": {},
   "outputs": [],
   "source": [
    "def get_rgb_mask(\n",
    "#     img_path: str,\n",
    "    rle_sequence: str,\n",
    "    _class: str,\n",
    "    height: int,\n",
    "    width: int\n",
    "):\n",
    "    dec = rle_decode(rle_sequence, (height, width))\n",
    "    rgb = np.zeros((height, width, 3))\n",
    "\n",
    "    for i in range(height):\n",
    "        for j in range(width):\n",
    "            if dec[i, j] == 1:\n",
    "                rgb[i, j] = colors[_class]\n",
    "    \n",
    "#     rgb = np.uint8(rgb)\n",
    "    return rgb"
   ]
  },
  {
   "cell_type": "code",
   "execution_count": 27,
   "id": "214f7bca",
   "metadata": {},
   "outputs": [
    {
     "data": {
      "image/png": "[encoded data removed]",
      "text/plain": [
       "<Figure size 432x288 with 1 Axes>"
      ]
     },
     "metadata": {
      "needs_background": "light"
     },
     "output_type": "display_data"
    }
   ],
   "source": [
    "rgb = get_rgb_mask(df[~df['segmentation'].isna()].iloc[5]['segmentation'], 'stomach', 266, 266)\n",
    "plt.imshow(rgb);"
   ]
  },
  {
   "cell_type": "code",
   "execution_count": 28,
   "id": "262d190a",
   "metadata": {},
   "outputs": [],
   "source": [
    "df = df.dropna().reset_index(drop=True)"
   ]
  },
  {
   "cell_type": "code",
   "execution_count": 29,
   "id": "3ad6105e",
   "metadata": {},
   "outputs": [
    {
     "data": {
      "text/html": [
       "<div>\n",
       "<style scoped>\n",
       "    .dataframe tbody tr th:only-of-type {\n",
       "        vertical-align: middle;\n",
       "    }\n",
       "\n",
       "    .dataframe tbody tr th {\n",
       "        vertical-align: top;\n",
       "    }\n",
       "\n",
       "    .dataframe thead th {\n",
       "        text-align: right;\n",
       "    }\n",
       "</style>\n",
       "<table border=\"1\" class=\"dataframe\">\n",
       "  <thead>\n",
       "    <tr style=\"text-align: right;\">\n",
       "      <th></th>\n",
       "      <th>id</th>\n",
       "      <th>class</th>\n",
       "      <th>segmentation</th>\n",
       "      <th>img_path</th>\n",
       "      <th>WIDTH</th>\n",
       "      <th>HEIGHT</th>\n",
       "    </tr>\n",
       "  </thead>\n",
       "  <tbody>\n",
       "    <tr>\n",
       "      <th>0</th>\n",
       "      <td>case123_day20_slice_0065</td>\n",
       "      <td>stomach</td>\n",
       "      <td>28094 3 28358 7 28623 9 28889 9 29155 9 29421 ...</td>\n",
       "      <td>../uw-madison-gi-tract-image-segmentation/trai...</td>\n",
       "      <td>266</td>\n",
       "      <td>266</td>\n",
       "    </tr>\n",
       "    <tr>\n",
       "      <th>1</th>\n",
       "      <td>case123_day20_slice_0066</td>\n",
       "      <td>stomach</td>\n",
       "      <td>27561 8 27825 11 28090 13 28355 14 28620 15 28...</td>\n",
       "      <td>../uw-madison-gi-tract-image-segmentation/trai...</td>\n",
       "      <td>266</td>\n",
       "      <td>266</td>\n",
       "    </tr>\n",
       "    <tr>\n",
       "      <th>2</th>\n",
       "      <td>case123_day20_slice_0067</td>\n",
       "      <td>stomach</td>\n",
       "      <td>15323 4 15587 8 15852 10 16117 11 16383 12 166...</td>\n",
       "      <td>../uw-madison-gi-tract-image-segmentation/trai...</td>\n",
       "      <td>266</td>\n",
       "      <td>266</td>\n",
       "    </tr>\n",
       "    <tr>\n",
       "      <th>3</th>\n",
       "      <td>case123_day20_slice_0068</td>\n",
       "      <td>stomach</td>\n",
       "      <td>14792 5 15056 9 15321 11 15587 11 15852 13 161...</td>\n",
       "      <td>../uw-madison-gi-tract-image-segmentation/trai...</td>\n",
       "      <td>266</td>\n",
       "      <td>266</td>\n",
       "    </tr>\n",
       "    <tr>\n",
       "      <th>4</th>\n",
       "      <td>case123_day20_slice_0069</td>\n",
       "      <td>stomach</td>\n",
       "      <td>14526 6 14789 12 15054 14 15319 16 15584 17 15...</td>\n",
       "      <td>../uw-madison-gi-tract-image-segmentation/trai...</td>\n",
       "      <td>266</td>\n",
       "      <td>266</td>\n",
       "    </tr>\n",
       "    <tr>\n",
       "      <th>...</th>\n",
       "      <td>...</td>\n",
       "      <td>...</td>\n",
       "      <td>...</td>\n",
       "      <td>...</td>\n",
       "      <td>...</td>\n",
       "      <td>...</td>\n",
       "    </tr>\n",
       "    <tr>\n",
       "      <th>33908</th>\n",
       "      <td>case30_day0_slice_0135</td>\n",
       "      <td>small_bowel</td>\n",
       "      <td>22540 1 22804 5 23069 7 23334 10 23600 11 2386...</td>\n",
       "      <td>../uw-madison-gi-tract-image-segmentation/trai...</td>\n",
       "      <td>266</td>\n",
       "      <td>266</td>\n",
       "    </tr>\n",
       "    <tr>\n",
       "      <th>33909</th>\n",
       "      <td>case30_day0_slice_0136</td>\n",
       "      <td>large_bowel</td>\n",
       "      <td>18746 7 19009 23 19038 7 19273 44 19537 49 198...</td>\n",
       "      <td>../uw-madison-gi-tract-image-segmentation/trai...</td>\n",
       "      <td>266</td>\n",
       "      <td>266</td>\n",
       "    </tr>\n",
       "    <tr>\n",
       "      <th>33910</th>\n",
       "      <td>case30_day0_slice_0136</td>\n",
       "      <td>small_bowel</td>\n",
       "      <td>23079 1 23343 6 23608 9 23874 11 24139 13 2440...</td>\n",
       "      <td>../uw-madison-gi-tract-image-segmentation/trai...</td>\n",
       "      <td>266</td>\n",
       "      <td>266</td>\n",
       "    </tr>\n",
       "    <tr>\n",
       "      <th>33911</th>\n",
       "      <td>case30_day0_slice_0137</td>\n",
       "      <td>large_bowel</td>\n",
       "      <td>18746 2 19010 8 19040 3 19274 25 19302 12 1953...</td>\n",
       "      <td>../uw-madison-gi-tract-image-segmentation/trai...</td>\n",
       "      <td>266</td>\n",
       "      <td>266</td>\n",
       "    </tr>\n",
       "    <tr>\n",
       "      <th>33912</th>\n",
       "      <td>case30_day0_slice_0137</td>\n",
       "      <td>small_bowel</td>\n",
       "      <td>21457 6 21722 10 21987 15 22252 18 22517 21 22...</td>\n",
       "      <td>../uw-madison-gi-tract-image-segmentation/trai...</td>\n",
       "      <td>266</td>\n",
       "      <td>266</td>\n",
       "    </tr>\n",
       "  </tbody>\n",
       "</table>\n",
       "<p>33913 rows × 6 columns</p>\n",
       "</div>"
      ],
      "text/plain": [
       "                             id        class  \\\n",
       "0      case123_day20_slice_0065      stomach   \n",
       "1      case123_day20_slice_0066      stomach   \n",
       "2      case123_day20_slice_0067      stomach   \n",
       "3      case123_day20_slice_0068      stomach   \n",
       "4      case123_day20_slice_0069      stomach   \n",
       "...                         ...          ...   \n",
       "33908    case30_day0_slice_0135  small_bowel   \n",
       "33909    case30_day0_slice_0136  large_bowel   \n",
       "33910    case30_day0_slice_0136  small_bowel   \n",
       "33911    case30_day0_slice_0137  large_bowel   \n",
       "33912    case30_day0_slice_0137  small_bowel   \n",
       "\n",
       "                                            segmentation  \\\n",
       "0      28094 3 28358 7 28623 9 28889 9 29155 9 29421 ...   \n",
       "1      27561 8 27825 11 28090 13 28355 14 28620 15 28...   \n",
       "2      15323 4 15587 8 15852 10 16117 11 16383 12 166...   \n",
       "3      14792 5 15056 9 15321 11 15587 11 15852 13 161...   \n",
       "4      14526 6 14789 12 15054 14 15319 16 15584 17 15...   \n",
       "...                                                  ...   \n",
       "33908  22540 1 22804 5 23069 7 23334 10 23600 11 2386...   \n",
       "33909  18746 7 19009 23 19038 7 19273 44 19537 49 198...   \n",
       "33910  23079 1 23343 6 23608 9 23874 11 24139 13 2440...   \n",
       "33911  18746 2 19010 8 19040 3 19274 25 19302 12 1953...   \n",
       "33912  21457 6 21722 10 21987 15 22252 18 22517 21 22...   \n",
       "\n",
       "                                                img_path WIDTH HEIGHT  \n",
       "0      ../uw-madison-gi-tract-image-segmentation/trai...   266    266  \n",
       "1      ../uw-madison-gi-tract-image-segmentation/trai...   266    266  \n",
       "2      ../uw-madison-gi-tract-image-segmentation/trai...   266    266  \n",
       "3      ../uw-madison-gi-tract-image-segmentation/trai...   266    266  \n",
       "4      ../uw-madison-gi-tract-image-segmentation/trai...   266    266  \n",
       "...                                                  ...   ...    ...  \n",
       "33908  ../uw-madison-gi-tract-image-segmentation/trai...   266    266  \n",
       "33909  ../uw-madison-gi-tract-image-segmentation/trai...   266    266  \n",
       "33910  ../uw-madison-gi-tract-image-segmentation/trai...   266    266  \n",
       "33911  ../uw-madison-gi-tract-image-segmentation/trai...   266    266  \n",
       "33912  ../uw-madison-gi-tract-image-segmentation/trai...   266    266  \n",
       "\n",
       "[33913 rows x 6 columns]"
      ]
     },
     "execution_count": 29,
     "metadata": {},
     "output_type": "execute_result"
    }
   ],
   "source": [
    "df"
   ]
  },
  {
   "cell_type": "code",
   "execution_count": 30,
   "id": "10367b6d",
   "metadata": {},
   "outputs": [],
   "source": [
    "df['WIDTH'] = df['WIDTH'].astype(int)\n",
    "df['HEIGHT'] = df['HEIGHT'].astype(int)"
   ]
  },
  {
   "cell_type": "code",
   "execution_count": 31,
   "id": "39799cfa",
   "metadata": {},
   "outputs": [
    {
     "data": {
      "text/plain": [
       "(array([266, 310, 234, 276]), array([266, 360, 234, 276]))"
      ]
     },
     "execution_count": 31,
     "metadata": {},
     "output_type": "execute_result"
    }
   ],
   "source": [
    "df['WIDTH'].unique(), df['HEIGHT'].unique()"
   ]
  },
  {
   "cell_type": "code",
   "execution_count": 32,
   "id": "9d324d6a",
   "metadata": {},
   "outputs": [],
   "source": [
    "df.to_csv('../processed-v1/train.csv', index=False)"
   ]
  },
  {
   "cell_type": "code",
   "execution_count": 33,
   "id": "872e0fc0",
   "metadata": {},
   "outputs": [
    {
     "data": {
      "text/plain": [
       "['case123_day20_slice_0065',\n",
       " 'case123_day20_slice_0066',\n",
       " 'case123_day20_slice_0067',\n",
       " 'case123_day20_slice_0068',\n",
       " 'case123_day20_slice_0069',\n",
       " 'case123_day20_slice_0070',\n",
       " 'case123_day20_slice_0071',\n",
       " 'case123_day20_slice_0072',\n",
       " 'case123_day20_slice_0073',\n",
       " 'case123_day20_slice_0074']"
      ]
     },
     "execution_count": 33,
     "metadata": {},
     "output_type": "execute_result"
    }
   ],
   "source": [
    "ids = df['id'].tolist()\n",
    "ids[:10]"
   ]
  },
  {
   "cell_type": "code",
   "execution_count": 34,
   "id": "12d47ee4",
   "metadata": {
    "scrolled": true
   },
   "outputs": [
    {
     "name": "stderr",
     "output_type": "stream",
     "text": [
      "100%|███████████████████████████████████| 33913/33913 [1:29:07<00:00,  6.34it/s]\n"
     ]
    }
   ],
   "source": [
    "MASK_PATHS = []\n",
    "\n",
    "for _id in tqdm(ids):\n",
    "    subset = df[df['id'] == _id].reset_index(drop=True)\n",
    "    img = plt.imread(subset.iloc[0]['img_path'])\n",
    "    final_mask = None\n",
    "    for ix in range(len(subset)):\n",
    "        _class = subset.iloc[ix]['class']\n",
    "        rle_sequence = subset.iloc[ix]['segmentation']\n",
    "        mask = get_rgb_mask(rle_sequence=rle_sequence, _class=_class, \n",
    "                            height=subset.iloc[ix]['HEIGHT'], width=subset.iloc[ix]['WIDTH'])\n",
    "        \n",
    "        if final_mask is None:\n",
    "            final_mask = mask\n",
    "        else:\n",
    "            final_mask = cv.bitwise_or(final_mask, mask)\n",
    "    \n",
    "    plt.imsave(os.path.join('../processed-v1/masks', f'{_id}.png'), final_mask)\n",
    "    plt.imsave(os.path.join('../processed-v1/imgs', f'{_id}.png'), img, cmap='gray')\n",
    "    MASK_PATHS += [os.path.join('../processed-v1/masks', f'{_id}.png')] * len(subset)\n",
    "#     plt.imshow(final_mask)\n",
    "#     plt.show()\n",
    "#     break"
   ]
  },
  {
   "cell_type": "code",
   "execution_count": 35,
   "id": "985c5e53",
   "metadata": {},
   "outputs": [
    {
     "data": {
      "text/html": [
       "<div>\n",
       "<style scoped>\n",
       "    .dataframe tbody tr th:only-of-type {\n",
       "        vertical-align: middle;\n",
       "    }\n",
       "\n",
       "    .dataframe tbody tr th {\n",
       "        vertical-align: top;\n",
       "    }\n",
       "\n",
       "    .dataframe thead th {\n",
       "        text-align: right;\n",
       "    }\n",
       "</style>\n",
       "<table border=\"1\" class=\"dataframe\">\n",
       "  <thead>\n",
       "    <tr style=\"text-align: right;\">\n",
       "      <th></th>\n",
       "      <th>id</th>\n",
       "      <th>class</th>\n",
       "      <th>segmentation</th>\n",
       "      <th>img_path</th>\n",
       "      <th>WIDTH</th>\n",
       "      <th>HEIGHT</th>\n",
       "    </tr>\n",
       "  </thead>\n",
       "  <tbody>\n",
       "    <tr>\n",
       "      <th>0</th>\n",
       "      <td>case123_day20_slice_0082</td>\n",
       "      <td>large_bowel</td>\n",
       "      <td>17481 4 17746 7 18010 10 18275 12 18539 14 188...</td>\n",
       "      <td>../uw-madison-gi-tract-image-segmentation/trai...</td>\n",
       "      <td>266</td>\n",
       "      <td>266</td>\n",
       "    </tr>\n",
       "    <tr>\n",
       "      <th>1</th>\n",
       "      <td>case123_day20_slice_0082</td>\n",
       "      <td>small_bowel</td>\n",
       "      <td>22236 2 22500 6 22765 8 23030 10 23296 10 2356...</td>\n",
       "      <td>../uw-madison-gi-tract-image-segmentation/trai...</td>\n",
       "      <td>266</td>\n",
       "      <td>266</td>\n",
       "    </tr>\n",
       "    <tr>\n",
       "      <th>2</th>\n",
       "      <td>case123_day20_slice_0082</td>\n",
       "      <td>stomach</td>\n",
       "      <td>11052 8 11314 15 11578 19 11843 23 12108 26 12...</td>\n",
       "      <td>../uw-madison-gi-tract-image-segmentation/trai...</td>\n",
       "      <td>266</td>\n",
       "      <td>266</td>\n",
       "    </tr>\n",
       "  </tbody>\n",
       "</table>\n",
       "</div>"
      ],
      "text/plain": [
       "                         id        class  \\\n",
       "0  case123_day20_slice_0082  large_bowel   \n",
       "1  case123_day20_slice_0082  small_bowel   \n",
       "2  case123_day20_slice_0082      stomach   \n",
       "\n",
       "                                        segmentation  \\\n",
       "0  17481 4 17746 7 18010 10 18275 12 18539 14 188...   \n",
       "1  22236 2 22500 6 22765 8 23030 10 23296 10 2356...   \n",
       "2  11052 8 11314 15 11578 19 11843 23 12108 26 12...   \n",
       "\n",
       "                                            img_path  WIDTH  HEIGHT  \n",
       "0  ../uw-madison-gi-tract-image-segmentation/trai...    266     266  \n",
       "1  ../uw-madison-gi-tract-image-segmentation/trai...    266     266  \n",
       "2  ../uw-madison-gi-tract-image-segmentation/trai...    266     266  "
      ]
     },
     "execution_count": 35,
     "metadata": {},
     "output_type": "execute_result"
    }
   ],
   "source": [
    "df[df['id'] == 'case123_day20_slice_0082'].reset_index(drop=True)"
   ]
  },
  {
   "cell_type": "code",
   "execution_count": 36,
   "id": "86e5356d",
   "metadata": {},
   "outputs": [
    {
     "data": {
      "text/plain": [
       "['../processed-v1/masks/case123_day20_slice_0065.png',\n",
       " '../processed-v1/masks/case123_day20_slice_0066.png',\n",
       " '../processed-v1/masks/case123_day20_slice_0067.png',\n",
       " '../processed-v1/masks/case123_day20_slice_0068.png',\n",
       " '../processed-v1/masks/case123_day20_slice_0069.png',\n",
       " '../processed-v1/masks/case123_day20_slice_0070.png',\n",
       " '../processed-v1/masks/case123_day20_slice_0071.png',\n",
       " '../processed-v1/masks/case123_day20_slice_0072.png',\n",
       " '../processed-v1/masks/case123_day20_slice_0073.png',\n",
       " '../processed-v1/masks/case123_day20_slice_0074.png']"
      ]
     },
     "execution_count": 36,
     "metadata": {},
     "output_type": "execute_result"
    }
   ],
   "source": [
    "MASK_PATHS[:10]"
   ]
  }
 ],
 "metadata": {
  "kernelspec": {
   "display_name": "Python 3.9 (tensorflow)",
   "language": "python",
   "name": "tensorflow"
  },
  "language_info": {
   "codemirror_mode": {
    "name": "ipython",
    "version": 3
   },
   "file_extension": ".py",
   "mimetype": "text/x-python",
   "name": "python",
   "nbconvert_exporter": "python",
   "pygments_lexer": "ipython3",
   "version": "3.9.15"
  }
 },
 "nbformat": 4,
 "nbformat_minor": 5
}
